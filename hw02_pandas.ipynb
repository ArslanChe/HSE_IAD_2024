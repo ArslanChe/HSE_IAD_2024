{
  "cells": [
    {
      "cell_type": "markdown",
      "metadata": {
        "_uuid": "21c25e4f8bb31570029fd6b069131a5d00f84cf1",
        "id": "k20hGiWIHdSh"
      },
      "source": [
        "# Домашнее задание 2 (5 баллов).\n",
        "\n",
        "Все задания ниже имеют равный вес (5/16)."
      ]
    },
    {
      "cell_type": "code",
      "execution_count": 68,
      "metadata": {
        "_uuid": "568eb2d31004b87d22e119112ae01a1e75105f1d",
        "id": "9d5RkpmIHdSj"
      },
      "outputs": [],
      "source": [
        "import pandas as pd"
      ]
    },
    {
      "cell_type": "markdown",
      "metadata": {
        "id": "BrIhwOmgHdSj"
      },
      "source": [
        "#### Описание данных\n",
        "\n",
        "В папке Dat (https://github.com/hse-ds/iad-intro-ds/blob/master/2023/homeworks/Data.zip) находится информация о студентах. Всего 10 групп студентов. Файлы делятся на две категории:\n",
        "    * Students_info_i - информация о студентах из группы i\n",
        "    * Students_marks_i - оценки студентов из группы i за экзамены"
      ]
    },
    {
      "cell_type": "markdown",
      "metadata": {
        "id": "NbYSEEP0HdSk"
      },
      "source": [
        "### Одно из важных достоинств pandas $-$ это удобные методы реляционного взаимодействия с данными, аналогичные, например, возможностям SQL для слияния и конкатенации таблиц: merge, join, concat. Наличие готовых методов позволяет не реализовывать самостоятельно поэлементную обработку данных и оперировать сразу целыми таблицами данных.\n",
        "\n",
        "Подробно об этих методах посмотрите тут: https://www.kaggle.com/residentmario/renaming-and-combining#Combining"
      ]
    },
    {
      "cell_type": "markdown",
      "metadata": {
        "id": "vj447vFVHdSk"
      },
      "source": [
        "#### Задание 1. Соберите всю информацию о студентах в одну таблицу df. В получившейся таблице должна быть информация и оценки всех студентов из всех групп. Напечатайте несколько строк таблицы для демонстрации результата.¶"
      ]
    },
    {
      "cell_type": "code",
      "execution_count": 69,
      "metadata": {
        "id": "7BLmjFEoHdSk",
        "colab": {
          "base_uri": "https://localhost:8080/"
        },
        "outputId": "52f461fb-cec0-41f4-a4ad-9e4d80683de8"
      },
      "outputs": [
        {
          "output_type": "stream",
          "name": "stdout",
          "text": [
            "   index  gender race/ethnicity parental level of education         lunch  \\\n",
            "0      0  female        group B           bachelor's degree      standard   \n",
            "1      1  female        group C                some college      standard   \n",
            "2      2  female        group B             master's degree      standard   \n",
            "3      3    male        group A          associate's degree  free/reduced   \n",
            "4      4    male        group C                some college      standard   \n",
            "\n",
            "  test preparation course   group  math score  reading score  writing score  \n",
            "0                    none  group1          72             72             74  \n",
            "1               completed  group1          69             90             88  \n",
            "2                    none  group1          90             95             93  \n",
            "3                    none  group1          47             57             44  \n",
            "4                    none  group1          76             78             75  \n"
          ]
        }
      ],
      "source": [
        "info_dfs = [pd.read_csv(file) for file in [\"https://raw.githubusercontent.com/ArslanChe/For_iad/main/Second_hw/Data/Data/Students_info_\" + str(i) + \".csv\" for i in range(10)]]\n",
        "marks_dfs = [pd.read_csv(file) for file in [\"https://raw.githubusercontent.com/ArslanChe/For_iad/main/Second_hw/Data/Data/Students_marks_\" + str(i) + \".csv\" for i in range(10)]]\n",
        "\n",
        "info_df = pd.concat(info_dfs, ignore_index=True)\n",
        "marks_df = pd.concat(marks_dfs, ignore_index=True)\n",
        "df = pd.merge(info_df, marks_df, on='index')\n",
        "print(df.head())"
      ]
    },
    {
      "cell_type": "markdown",
      "metadata": {
        "_uuid": "8524af4cbd2f7b7810e8a3095a74c9fe1df7eafa",
        "id": "gkxglUqJHdSk"
      },
      "source": [
        "#### Задание 2. Удалите столбец index у полученной таблицы. Напечатайте первые 10 строк таблицы."
      ]
    },
    {
      "cell_type": "code",
      "execution_count": 70,
      "metadata": {
        "_uuid": "fe62eee87b9b94ab923f57b55eaf0554612aa9e9",
        "id": "PgD5UZWgHdSk",
        "colab": {
          "base_uri": "https://localhost:8080/"
        },
        "outputId": "7c7fcfc6-aa1a-46b4-d3a3-ea2e315c407d"
      },
      "outputs": [
        {
          "output_type": "stream",
          "name": "stdout",
          "text": [
            "   index  gender race/ethnicity parental level of education         lunch  \\\n",
            "0      0  female        group B           bachelor's degree      standard   \n",
            "1      1  female        group C                some college      standard   \n",
            "2      2  female        group B             master's degree      standard   \n",
            "3      3    male        group A          associate's degree  free/reduced   \n",
            "4      4    male        group C                some college      standard   \n",
            "5      5  female        group B          associate's degree      standard   \n",
            "6      6  female        group B                some college      standard   \n",
            "7      7    male        group B                some college  free/reduced   \n",
            "8      8    male        group D                 high school  free/reduced   \n",
            "9      9  female        group B                 high school  free/reduced   \n",
            "\n",
            "  test preparation course   group  math score  reading score  writing score  \n",
            "0                    none  group1          72             72             74  \n",
            "1               completed  group1          69             90             88  \n",
            "2                    none  group1          90             95             93  \n",
            "3                    none  group1          47             57             44  \n",
            "4                    none  group1          76             78             75  \n",
            "5                    none  group1          71             83             78  \n",
            "6               completed  group1          88             95             92  \n",
            "7                    none  group1          40             43             39  \n",
            "8               completed  group1          64             64             67  \n",
            "9                    none  group1          38             60             50  \n"
          ]
        }
      ],
      "source": [
        "df = df.reset_index(drop=True)\n",
        "print(df.head(10))\n"
      ]
    },
    {
      "cell_type": "markdown",
      "metadata": {
        "_uuid": "5fcd622942b7ecfc318934c6a245d3bb3bf01e84",
        "id": "eahGRLMIHdSk"
      },
      "source": [
        "#### Задание 3. Выведите на экран размеры полученной таблицы"
      ]
    },
    {
      "cell_type": "code",
      "execution_count": 71,
      "metadata": {
        "_uuid": "16281cd7b4e941ebed8ca2e1b42f62f55d838684",
        "id": "oIASGQTtHdSl",
        "colab": {
          "base_uri": "https://localhost:8080/"
        },
        "outputId": "2e660f13-e95c-46ed-f9bd-9b27844fc9bf"
      },
      "outputs": [
        {
          "output_type": "stream",
          "name": "stdout",
          "text": [
            "Размеры таблицы: (1000, 10)\n"
          ]
        }
      ],
      "source": [
        "print(\"Размеры таблицы:\", df.shape)\n"
      ]
    },
    {
      "cell_type": "markdown",
      "metadata": {
        "_uuid": "fe8e3d58d29ca25dbbcf001392377643e6ff9a36",
        "id": "YyGqj3MvHdSl"
      },
      "source": [
        "#### Задание 4. Выведите на экран статистические характеристики числовых столбцов таблицы (минимум, максимум, среднее значение, стандартное отклонение)"
      ]
    },
    {
      "cell_type": "code",
      "execution_count": 72,
      "metadata": {
        "_uuid": "e3d4bb80d2c4251fe517c24fcf08c5ff2d67b8aa",
        "id": "09WDhaM9HdSl",
        "colab": {
          "base_uri": "https://localhost:8080/"
        },
        "outputId": "122a9f42-2da6-4d0c-ef65-b93f07d3d8c8"
      },
      "outputs": [
        {
          "output_type": "stream",
          "name": "stdout",
          "text": [
            "             index  math score  reading score  writing score\n",
            "count  1000.000000  1000.00000    1000.000000    1000.000000\n",
            "mean    499.500000    66.08900      69.169000      68.054000\n",
            "std     288.819436    15.16308      14.600192      15.195657\n",
            "min       0.000000     0.00000      17.000000      10.000000\n",
            "25%     249.750000    57.00000      59.000000      57.750000\n",
            "50%     499.500000    66.00000      70.000000      69.000000\n",
            "75%     749.250000    77.00000      79.000000      79.000000\n",
            "max     999.000000   100.00000     100.000000     100.000000\n"
          ]
        }
      ],
      "source": [
        "print(df.describe())\n"
      ]
    },
    {
      "cell_type": "markdown",
      "metadata": {
        "_uuid": "b26b7de83485ecb3b8a0a7865a596e24527c7b2f",
        "id": "G9B6G-qTHdSl"
      },
      "source": [
        "#### Задание 5. Проверьте, есть ли в таблице пропущенные значения"
      ]
    },
    {
      "cell_type": "code",
      "execution_count": 87,
      "metadata": {
        "_uuid": "4eac3f8f83d07c6e58ad1576fe0e773f37034a2f",
        "id": "foS39cP1HdSl",
        "colab": {
          "base_uri": "https://localhost:8080/"
        },
        "outputId": "6ee6e99a-615e-45ce-f74e-b2485582f393"
      },
      "outputs": [
        {
          "output_type": "stream",
          "name": "stdout",
          "text": [
            "Пропущенные значения в каждом столбце:\n",
            "index                 0\n",
            "gender                0\n",
            "race/ethnicity        0\n",
            "education             0\n",
            "lunch                 0\n",
            "test preparation      0\n",
            "group                 0\n",
            "math score            0\n",
            "reading score         0\n",
            "writing score         0\n",
            "Math_PassStatus       0\n",
            "Reading_PassStatus    0\n",
            "Writing_PassStatus    0\n",
            "OverAll_PassStatus    0\n",
            "Grade                 0\n",
            "dtype: int64\n"
          ]
        }
      ],
      "source": [
        "missing_values = df.isnull().sum()\n",
        "\n",
        "print(\"Пропущенные значения в каждом столбце:\")\n",
        "print(missing_values)\n"
      ]
    },
    {
      "cell_type": "markdown",
      "metadata": {
        "id": "lNhQEQc9HdSl"
      },
      "source": [
        "#### Задание 6. Выведите на экран средние баллы студентов по каждому предмету (math, reading, writing)"
      ]
    },
    {
      "cell_type": "code",
      "execution_count": 74,
      "metadata": {
        "id": "K3zKW3SJHdSl",
        "colab": {
          "base_uri": "https://localhost:8080/"
        },
        "outputId": "7d76487a-c9c3-45a5-ed15-7f31e9a5822b"
      },
      "outputs": [
        {
          "output_type": "stream",
          "name": "stdout",
          "text": [
            "Средние баллы по предметам:\n",
            "math score       66.089\n",
            "reading score    69.169\n",
            "writing score    68.054\n",
            "dtype: float64\n"
          ]
        }
      ],
      "source": [
        "print(\"Средние баллы по предметам:\")\n",
        "print(df[['math score', 'reading score', 'writing score']].mean())\n"
      ]
    },
    {
      "cell_type": "markdown",
      "metadata": {
        "id": "cP6PSnUJHdSl"
      },
      "source": [
        "**Задание 7. Как зависят оценки от того, проходил ли студент курс для подготовки к сдаче экзамена (test preparation course)? Выведите на экран для каждого предмета в отдельности средний балл студентов, проходивших курс для подготовки к экзамену и не проходивших курс.**"
      ]
    },
    {
      "cell_type": "code",
      "execution_count": 75,
      "metadata": {
        "id": "23eQ2CCwHdSm",
        "colab": {
          "base_uri": "https://localhost:8080/"
        },
        "outputId": "76dc3e0a-1313-4406-af68-ebc530f94cb0"
      },
      "outputs": [
        {
          "output_type": "stream",
          "name": "stdout",
          "text": [
            "Средний балл студентов, проходивших курс для подготовки к экзамену и не проходивших курс\n",
            "                         math score  reading score  writing score\n",
            "test preparation course                                          \n",
            "completed                 69.695531      73.893855      74.418994\n",
            "none                      64.077882      66.534268      64.504673\n"
          ]
        }
      ],
      "source": [
        "avg_by_course = df.groupby('test preparation course')[['math score', 'reading score', 'writing score']].mean()\n",
        "\n",
        "print(\"Средний балл студентов, проходивших курс для подготовки к экзамену и не проходивших курс\")\n",
        "print(avg_by_course)\n"
      ]
    },
    {
      "cell_type": "markdown",
      "metadata": {
        "id": "y1H8CC26HdSm"
      },
      "source": [
        "**Задание 8. Выведите на экран все различные значения из столбца lunch.**"
      ]
    },
    {
      "cell_type": "code",
      "execution_count": 76,
      "metadata": {
        "id": "4emK2hxuHdSm",
        "colab": {
          "base_uri": "https://localhost:8080/"
        },
        "outputId": "a3efc11d-d3ac-45dd-f68b-712b5ae806f8"
      },
      "outputs": [
        {
          "output_type": "stream",
          "name": "stdout",
          "text": [
            "Все различные значения столбца lunch\n",
            "['standard' 'free/reduced']\n"
          ]
        }
      ],
      "source": [
        "unique_lunch_values = df['lunch'].unique()\n",
        "print(\"Все различные значения столбца lunch\")\n",
        "print(unique_lunch_values)\n"
      ]
    },
    {
      "cell_type": "markdown",
      "metadata": {
        "id": "Hl8ETlpQHdSm"
      },
      "source": [
        "**Задание 9. Переименуйте колонку \"parental level of education\" в \"education\", а \"test preparation course\" в \"test preparation\" с помощью метода pandas rename**\n",
        "https://pandas.pydata.org/pandas-docs/stable/reference/api/pandas.DataFrame.rename.html"
      ]
    },
    {
      "cell_type": "code",
      "execution_count": 77,
      "metadata": {
        "id": "nh0mCHGbHdSm",
        "colab": {
          "base_uri": "https://localhost:8080/"
        },
        "outputId": "ac4b8b72-3bca-4110-ad20-46b8a717e0a4"
      },
      "outputs": [
        {
          "output_type": "stream",
          "name": "stdout",
          "text": [
            "   index  gender race/ethnicity           education         lunch  \\\n",
            "0      0  female        group B   bachelor's degree      standard   \n",
            "1      1  female        group C        some college      standard   \n",
            "2      2  female        group B     master's degree      standard   \n",
            "3      3    male        group A  associate's degree  free/reduced   \n",
            "4      4    male        group C        some college      standard   \n",
            "\n",
            "  test preparation   group  math score  reading score  writing score  \n",
            "0             none  group1          72             72             74  \n",
            "1        completed  group1          69             90             88  \n",
            "2             none  group1          90             95             93  \n",
            "3             none  group1          47             57             44  \n",
            "4             none  group1          76             78             75  \n"
          ]
        }
      ],
      "source": [
        "df = df.rename(columns={'parental level of education': 'education', 'test preparation course': 'test preparation'})\n",
        "print(df.head())\n"
      ]
    },
    {
      "cell_type": "markdown",
      "metadata": {
        "id": "x21nJgx3HdSm"
      },
      "source": [
        "**Зафиксируем минимальный балл для сдачи экзамена**"
      ]
    },
    {
      "cell_type": "code",
      "execution_count": 78,
      "metadata": {
        "id": "S8URsjHeHdSn"
      },
      "outputs": [],
      "source": [
        "passmark = 50"
      ]
    },
    {
      "cell_type": "markdown",
      "metadata": {
        "id": "NDywCUY9HdSn"
      },
      "source": [
        "**Задание 10. Ответьте на вопросы:**\n",
        "    * Какая доля студентов сдала экзамен по математике (passmark >= 50)?\n",
        "    * Какая доля студентов, проходивших курс подготовки к экзамену, сдала экзамен по математике?\n",
        "    * Какая доля женщин, не проходивших курс подготовки к экзамену, не сдала экзамен по математике?"
      ]
    },
    {
      "cell_type": "code",
      "execution_count": 79,
      "metadata": {
        "id": "9ivEEytlHdSn",
        "colab": {
          "base_uri": "https://localhost:8080/"
        },
        "outputId": "eac5ce35-0dba-4f25-d62e-1e61e93653e5"
      },
      "outputs": [
        {
          "output_type": "stream",
          "name": "stdout",
          "text": [
            "Доля студентов, сдавших экзамен по математике: 0.86\n",
            "Доля студентов, проходивших курс подготовки, сдавших экзамен по математике: 0.92\n",
            "Доля женщин, не проходивших курс подготовки, не сдавших экзамен по математике: 0.21\n"
          ]
        }
      ],
      "source": [
        "#A\n",
        "ans_a = len(df[df['math score'] >= 50]) / len(df)\n",
        "print(\"Доля студентов, сдавших экзамен по математике: {:.2}\".format(ans_a))\n",
        "\n",
        "#B\n",
        "ans_b = len(df[(df['test preparation'] == 'completed') & (df['math score'] >= 50)]) /len(df[df['test preparation'] == 'completed'])\n",
        "print(\"Доля студентов, проходивших курс подготовки, сдавших экзамен по математике: {:.2}\".format(ans_b))\n",
        "\n",
        "#C\n",
        "ans_c = len(df[(df['gender'] == 'female') & (df['test preparation'] == 'none') & (df['math score'] < 50)]) / len(df[(df['gender'] == 'female') & (df['test preparation'] == 'none')])\n",
        "print(\"Доля женщин, не проходивших курс подготовки, не сдавших экзамен по математике: {:.2}\".format(ans_c))\n"
      ]
    },
    {
      "cell_type": "markdown",
      "metadata": {
        "id": "hfWSGmqKHdSn"
      },
      "source": [
        "**Задание 11. С помощью groupby выполните задания ниже. Также выведите время выполнения каждого из заданий.**\n",
        "    * Для каждой этнической группы выведите средний балл за экзамен по чтению\n",
        "    * Для каждого уровня образования выведите минимальный балл за экзамен по письму"
      ]
    },
    {
      "cell_type": "code",
      "execution_count": 80,
      "metadata": {
        "id": "WZNlZMqiHdSn",
        "colab": {
          "base_uri": "https://localhost:8080/"
        },
        "outputId": "0a9c047b-b6e0-42f1-f89f-9c29b475399e"
      },
      "outputs": [
        {
          "output_type": "stream",
          "name": "stdout",
          "text": [
            "Средний балл за экзамен по чтению по каждой этнической группе: race/ethnicity\n",
            "group A    64.674157\n",
            "group B    67.352632\n",
            "group C    69.103448\n",
            "group D    70.030534\n",
            "group E    73.028571\n",
            "Name: reading score, dtype: float64\n",
            "Время выполнения: 0.0025 секунд\n",
            "\n",
            "Минимальный балл за экзамен по письму по каждому уровню образования: education\n",
            "associate's degree    35\n",
            "bachelor's degree     38\n",
            "high school           15\n",
            "master's degree       46\n",
            "some college          19\n",
            "some high school      10\n",
            "Name: writing score, dtype: int64\n",
            "Время выполнения: 0.0029 секунд\n"
          ]
        }
      ],
      "source": [
        "import time\n",
        "\n",
        "#A\n",
        "start = time.time()\n",
        "reading_mean = df.groupby('race/ethnicity')['reading score'].mean()\n",
        "end = time.time()\n",
        "\n",
        "print(\"Средний балл за экзамен по чтению по каждой этнической группе:\", reading_mean)\n",
        "print(\"Время выполнения: {:.4f} секунд\".format(end - start))\n",
        "print()\n",
        "\n",
        "#B\n",
        "start = time.time()\n",
        "writing_min = df.groupby('education')['writing score'].min()\n",
        "end = time.time()\n",
        "\n",
        "print(\"Минимальный балл за экзамен по письму по каждому уровню образования:\", writing_min)\n",
        "print(\"Время выполнения: {:.4f} секунд\".format(end - start))\n"
      ]
    },
    {
      "cell_type": "markdown",
      "metadata": {
        "id": "waYr8I-OHdSn"
      },
      "source": [
        "\\**Задание 12. Выполните задание 11 с помощью циклов. Сравните время выполнения.**"
      ]
    },
    {
      "cell_type": "code",
      "execution_count": 81,
      "metadata": {
        "id": "843IhqT4HdSn",
        "colab": {
          "base_uri": "https://localhost:8080/"
        },
        "outputId": "0b1188a0-c947-49f1-99bd-46b8f79a8e98"
      },
      "outputs": [
        {
          "output_type": "stream",
          "name": "stdout",
          "text": [
            "Средний балл за экзамен по чтению по каждой этнической группе:\n",
            "group B 67.3526\n",
            "group C 69.1034\n",
            "group A 64.6742\n",
            "group D 70.0305\n",
            "group E 73.0286\n",
            "Время с использованием циклов: 0.0057 секунд\n",
            "\n",
            "Минимальный балл за экзамен по письму по каждому уровню образования:\n",
            "bachelor's degree 38\n",
            "some college 19\n",
            "master's degree 46\n",
            "associate's degree 35\n",
            "high school 15\n",
            "some high school 10\n",
            "Время с использованием циклов: 0.0093 секунд\n"
          ]
        }
      ],
      "source": [
        "\n",
        "start = time.time()\n",
        "\n",
        "unique_ethnicities = df['race/ethnicity'].unique()\n",
        "ethnicity_reading_means = {}\n",
        "\n",
        "for ethnicity in unique_ethnicities:\n",
        "    tmp = df[df['race/ethnicity'] == ethnicity]\n",
        "    mean_reading_score = tmp['reading score'].mean()\n",
        "    ethnicity_reading_means[ethnicity] = mean_reading_score\n",
        "\n",
        "end = time.time()\n",
        "\n",
        "\n",
        "print(\"Средний балл за экзамен по чтению по каждой этнической группе:\")\n",
        "for key in ethnicity_reading_means:\n",
        "    print(key, \"{:.4f}\".format(ethnicity_reading_means[key]))\n",
        "\n",
        "print(\"Время с использованием циклов: {:.4f} секунд\".format(end - start))\n",
        "print()\n",
        "\n",
        "start = time.time()\n",
        "\n",
        "educations = df['education'].unique()\n",
        "education_writing_mins = {}\n",
        "\n",
        "for education in educations:\n",
        "    tmp = df[df['education'] == education]\n",
        "    min_writing_score = tmp['writing score'].min()\n",
        "    education_writing_mins[education] = min_writing_score\n",
        "\n",
        "end = time.time()\n",
        "\n",
        "print(\"Минимальный балл за экзамен по письму по каждому уровню образования:\")\n",
        "for key in education_writing_mins:\n",
        "    print(key, (education_writing_mins[key]))\n",
        "\n",
        "print(\"Время с использованием циклов: {:.4f} секунд\".format(end - start))\n"
      ]
    },
    {
      "cell_type": "markdown",
      "metadata": {
        "id": "Kc-Reic6HdSn"
      },
      "source": [
        "**Задание 13. Выведите на экран средние баллы студентов по каждому предмету в зависимости от пола и уровня образования. То есть должно получиться количество групп, равных 2 * (число уровней образования), и для каждой такой группы выыведите средний балл по каждому из предметов.**\n",
        "\n",
        "Это можно сделать с помощью сводных таблиц (pivot_table):\n",
        "\n",
        "https://www.kaggle.com/kamilpolak/tutorial-how-to-use-pivot-table-in-pandas"
      ]
    },
    {
      "cell_type": "code",
      "execution_count": 82,
      "metadata": {
        "id": "q1-lNjVuHdSo",
        "colab": {
          "base_uri": "https://localhost:8080/"
        },
        "outputId": "a127c3a6-41ef-4af7-f293-67652380d38c"
      },
      "outputs": [
        {
          "output_type": "stream",
          "name": "stdout",
          "text": [
            "Средние баллы студентов по каждому предмету в зависимости от пола и уровня образования:\n",
            "                           math score  reading score  writing score\n",
            "gender education                                                   \n",
            "female associate's degree   65.250000      74.120690      74.000000\n",
            "       bachelor's degree    68.349206      77.285714      78.380952\n",
            "       high school          59.351064      68.202128      66.691489\n",
            "       master's degree      66.500000      76.805556      77.638889\n",
            "       some college         65.406780      73.550847      74.050847\n",
            "       some high school     59.296703      69.109890      68.285714\n",
            "male   associate's degree   70.764151      67.433962      65.405660\n",
            "       bachelor's degree    70.581818      68.090909      67.654545\n",
            "       high school          64.705882      61.480392      58.539216\n",
            "       master's degree      74.826087      73.130435      72.608696\n",
            "       some college         69.009259      64.990741      63.148148\n",
            "       some high school     67.840909      64.693182      61.375000\n"
          ]
        }
      ],
      "source": [
        "pivot_table = pd.pivot_table(df, values=['math score', 'reading score', 'writing score'], index=['gender', 'education'], aggfunc='mean')\n",
        "\n",
        "print(\"Средние баллы студентов по каждому предмету в зависимости от пола и уровня образования:\")\n",
        "print(pivot_table)\n"
      ]
    },
    {
      "cell_type": "markdown",
      "metadata": {
        "_uuid": "3e832cb427c4314582d1953a41b8c78db75e30e3",
        "id": "Dcnm3a-RHdSo"
      },
      "source": [
        "#### Задание 14. Сколько студентов успешно сдали экзамен по математике?\n",
        "\n",
        "Создайте новый столбец в таблице df под названием Math_PassStatus и запишите в него F, если студент не сдал экзамен по математике (балл за экзамен < passmark), и P иначе.\n",
        "\n",
        "Посчитайте количество студентов, сдавших и не сдавших экзамен по математике.\n",
        "\n",
        "Сделайте аналогичные шаги для экзаменов по чтению и письму."
      ]
    },
    {
      "cell_type": "code",
      "execution_count": 83,
      "metadata": {
        "_uuid": "f43cddb72cc96b30df84bc0de83a4d9170904340",
        "id": "Pwt0GZQXHdSo",
        "colab": {
          "base_uri": "https://localhost:8080/"
        },
        "outputId": "62057843-5d67-48ba-902c-d25934012e8d"
      },
      "outputs": [
        {
          "output_type": "stream",
          "name": "stdout",
          "text": [
            "Экзамен по математике: P    865\n",
            "F    135\n",
            "Name: Math_PassStatus, dtype: int64\n",
            "\n",
            "Экзамен по чтению: P    910\n",
            "F     90\n",
            "Name: Reading_PassStatus, dtype: int64\n",
            "\n",
            "Экзамен по письму: P    886\n",
            "F    114\n",
            "Name: Writing_PassStatus, dtype: int64\n"
          ]
        }
      ],
      "source": [
        "df['Math_PassStatus'] = df['math score'].apply(lambda x: 'P' if x >= passmark else 'F')\n",
        "math_pass = df['Math_PassStatus'].value_counts()\n",
        "\n",
        "df['Reading_PassStatus'] = df['reading score'].apply(lambda x: 'P' if x >= passmark else 'F')\n",
        "reading_pass = df['Reading_PassStatus'].value_counts()\n",
        "\n",
        "df['Writing_PassStatus'] = df['writing score'].apply(lambda x: 'P' if x >= passmark else 'F')\n",
        "writing_pass = df['Writing_PassStatus'].value_counts()\n",
        "\n",
        "\n",
        "print(\"Экзамен по математике:\", math_pass)\n",
        "print()\n",
        "print(\"Экзамен по чтению:\", reading_pass)\n",
        "print()\n",
        "print(\"Экзамен по письму:\", writing_pass)\n"
      ]
    },
    {
      "cell_type": "markdown",
      "metadata": {
        "_uuid": "b753c90914ee65501e2ed263ea614d88a381c472",
        "id": "mXs2WIkDHdSo"
      },
      "source": [
        "#### Задание 15. Сколько студентов успешно сдали все экзамены?\n",
        "\n",
        "Создайте столбец OverAll_PassStatus и запишите в него для каждого студента 'F', если студент не сдал хотя бы один из трех экзаменов, а иначе 'P'.\n",
        "\n",
        "Посчитайте количество студентов, которые сдали все экзамены."
      ]
    },
    {
      "cell_type": "code",
      "execution_count": 84,
      "metadata": {
        "_uuid": "e98f895a022b967cab801447b616222439fe9d84",
        "id": "qGEvouD5HdSo",
        "colab": {
          "base_uri": "https://localhost:8080/"
        },
        "outputId": "324e310a-321e-465e-8aaf-084b2f5fe9c1"
      },
      "outputs": [
        {
          "output_type": "stream",
          "name": "stdout",
          "text": [
            "Студенты, которые сдали все экзамены:\n",
            "P    812\n",
            "F    188\n",
            "Name: OverAll_PassStatus, dtype: int64\n"
          ]
        }
      ],
      "source": [
        "df['OverAll_PassStatus'] = df.apply(lambda row: 'F' if row['Math_PassStatus'] == 'F' or row['Reading_PassStatus'] == 'F' or row['Writing_PassStatus'] == 'F' else 'P', axis=1)\n",
        "overall_pass_counts = df['OverAll_PassStatus'].value_counts()\n",
        "\n",
        "print(\"Студенты, которые сдали все экзамены:\")\n",
        "print(overall_pass_counts)\n"
      ]
    },
    {
      "cell_type": "markdown",
      "metadata": {
        "_uuid": "3af9c6cb4cbfff66d4ae09509f10b8b6ce33075d",
        "id": "IwMGbmquHdSo"
      },
      "source": [
        "#### Задание 16. Переведем баллы в оценки\n",
        "\n",
        "### Система перевода баллов в оценки\n",
        "####    больше 90 = A\n",
        "####      80-90 = B\n",
        "####      70-80 = C\n",
        "####      60-70 = D\n",
        "####      50-60 = E\n",
        "####    меньше 50 = F (Fail)\n",
        "\n",
        "Создайте вспомогательную функцию, которая будет по среднему баллу за три экзамена выставлять оценку студенту по данным выше критериям.\n",
        "\n",
        "Создайте столбец Grade и запишите в него оценку каждого студента.\n",
        "\n",
        "Выведите количество студентов, получивших каждую из оценок.\n",
        "\n",
        "**В случае, если средний балл попадает на границу между оценками (т.е. равен ровно 60, 70 или 80 баллов), вы можете интерпретировать условие на своё усмотрение (т.е. можете поставить за 60 баллов оценку D, а можете - E).**"
      ]
    },
    {
      "cell_type": "code",
      "execution_count": 91,
      "metadata": {
        "_uuid": "04707c5be4237020b906d2ac705a0db3d620506f",
        "id": "EJeezuDlHdSo",
        "colab": {
          "base_uri": "https://localhost:8080/"
        },
        "outputId": "9e783370-16fe-4390-9126-753f2647855d"
      },
      "outputs": [
        {
          "output_type": "stream",
          "name": "stdout",
          "text": [
            "Количество студентов, получивших каждую из оценок:\n",
            "C    261\n",
            "D    256\n",
            "E    182\n",
            "B    148\n",
            "F    103\n",
            "A     50\n",
            "Name: Grade, dtype: int64\n"
          ]
        }
      ],
      "source": [
        "# Вспомогательная функция для определения оценки\n",
        "def assign_grade(avg_mark):\n",
        "    if avg_mark > 90:\n",
        "        return 'A'\n",
        "    elif 80 <= avg_mark <= 90:\n",
        "        return 'B'\n",
        "    elif 70 <= avg_mark < 80:\n",
        "        return 'C'\n",
        "    elif 60 <= avg_mark < 70:\n",
        "        return 'D'\n",
        "    elif 50 <= avg_mark < 60:\n",
        "        return 'E'\n",
        "    else:\n",
        "        return 'F'\n",
        "\n",
        "df['Grade'] = df[['math score', 'reading score', 'writing score']].mean(axis=1).apply(assign_grade)\n",
        "\n",
        "grades = df['Grade'].value_counts()\n",
        "print(\"Количество студентов, получивших каждую из оценок:\")\n",
        "print(grades)\n"
      ]
    }
  ],
  "metadata": {
    "kernelspec": {
      "display_name": "Python 3 (ipykernel)",
      "language": "python",
      "name": "python3"
    },
    "language_info": {
      "codemirror_mode": {
        "name": "ipython",
        "version": 3
      },
      "file_extension": ".py",
      "mimetype": "text/x-python",
      "name": "python",
      "nbconvert_exporter": "python",
      "pygments_lexer": "ipython3",
      "version": "3.7.9"
    },
    "colab": {
      "provenance": []
    }
  },
  "nbformat": 4,
  "nbformat_minor": 0
}